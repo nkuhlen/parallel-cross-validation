{
 "cells": [
  {
   "cell_type": "markdown",
   "metadata": {},
   "source": [
    "# Grid Search for Cross Validation"
   ]
  },
  {
   "cell_type": "markdown",
   "metadata": {},
   "source": [
    "This notebook implements a parallel and a non-parallel version of a grid search for cross-validated parameters. The procedure generally works as follows:\n",
    "\n",
    "1. Randomly split the data set into *k* training and test folds.\n",
    "2. Create a grid of parameters for the model being used.\n",
    "3. For each parameter from the grid, train the model on the training set and calculate the cross validation score obtained from the test set for each of the *k* folds.\n",
    "4. For each parameter, calculate the average score over the *k* folds.\n",
    "5. Choose the parameter that achieves the highest average score.\n",
    "\n",
    "Since the calculations of the scores for models with different parameter values are independent, this procedures is embarrassingly parallel. In particular, since the non-parallel version simply loops over all parameters and then loops over all *k* folds for each parameter, the speed gains from the parallel code are expected to be substantial.\n",
    "\n",
    "As an example, we use the above procedure to find an optimal value for the parameter *alpha* used when appying the LASSO (Least Absolute Shrinkage and Selection Operator) estimator. Note that the functions in this notebook are written in a rather generic way which allows to apply the procedure to any linear model from the sklearn.linear_model class that requires only one input parameter."
   ]
  },
  {
   "cell_type": "markdown",
   "metadata": {},
   "source": [
    "## Functions"
   ]
  },
  {
   "cell_type": "markdown",
   "metadata": {},
   "source": [
    "In this section, we define the functions needed to execute the grid search for cross validated parameters both in a parallel and non-parallel fashion. Before we define the functions, we import the required modules."
   ]
  },
  {
   "cell_type": "code",
   "execution_count": 1,
   "metadata": {
    "collapsed": false,
    "scrolled": true
   },
   "outputs": [],
   "source": [
    "import numpy as np\n",
    "import os\n",
    "from sklearn.externals import joblib\n",
    "from ipyparallel import Client\n",
    "import timeit\n",
    "%matplotlib inline\n",
    "import matplotlib.pyplot as plt"
   ]
  },
  {
   "cell_type": "markdown",
   "metadata": {},
   "source": [
    "First, we define a function that creates cross validation training and test sample indices."
   ]
  },
  {
   "cell_type": "code",
   "execution_count": 2,
   "metadata": {
    "collapsed": true
   },
   "outputs": [],
   "source": [
    "def cv_splits(x, iterations, test_size, random_seed=444):\n",
    "    \"\"\"Create random indices for cross validation training and test samples.\n",
    "\n",
    "    Args:\n",
    "        x : numpy array\n",
    "            Data used to determine the size of the training and split samples.\n",
    "\n",
    "        iterations : int\n",
    "            Number of folds to be generated from data.\n",
    "\n",
    "        test_size : float\n",
    "            Share of the data that is used for testing.\n",
    "\n",
    "        random_seed : int\n",
    "            Random seed used when randomly drawing indices.\n",
    "\n",
    "    \"\"\"\n",
    "\n",
    "    # Set random seed for replicability.\n",
    "    np.random.seed(random_seed)\n",
    "\n",
    "    # Create lists to store indices.\n",
    "    train = list(range(iterations))\n",
    "    valid = list(range(iterations))\n",
    "\n",
    "    for i, j in zip(train, valid):\n",
    "\n",
    "        # Draw indices of training set randomly.\n",
    "        train[i] = np.random.choice(\n",
    "            range(x.shape[0]), round(x.shape[0] * (1 - test_size))\n",
    "        )\n",
    "\n",
    "        # Draw indices of test set randomly.\n",
    "        valid[j] = np.random.choice(\n",
    "            range(x.shape[0]), round(x.shape[0] * test_size)\n",
    "        )\n",
    "\n",
    "    return train, valid"
   ]
  },
  {
   "cell_type": "markdown",
   "metadata": {},
   "source": [
    "Next, we use the above function to define a second function that splits a given data set into *k*  training and test samples. These are then saved on the hard drive as pickle objects."
   ]
  },
  {
   "cell_type": "code",
   "execution_count": 3,
   "metadata": {
    "collapsed": false
   },
   "outputs": [],
   "source": [
    "def cross_validation_samples(x, y, iterations=10, test_size=0.25):\n",
    "    \"\"\"Create cross validation splits. The splits are then save them on the hard\n",
    "    drive.\n",
    "\n",
    "    Args:\n",
    "        x : numpy array\n",
    "            Regressors used to predict a target.\n",
    "\n",
    "        y : numpy array\n",
    "            Observations of target values.\n",
    "\n",
    "        iterations : int\n",
    "            Number of folds to be generated from data. The default value is set\n",
    "            to 10.\n",
    "\n",
    "        test_size : float\n",
    "            Share of the data that is used for testing. The default value is\n",
    "            set to 0.25.\n",
    "\n",
    "    \"\"\"\n",
    "\n",
    "    # Create empty list to store file names of cross validation split samples.\n",
    "    samples = []\n",
    "\n",
    "    # Create cross validation splits.\n",
    "    training, validation = cv_splits(x, iterations, test_size=test_size)\n",
    "\n",
    "    # Define generic name for split files.\n",
    "    name = \"split_%02d.pkl\"\n",
    "\n",
    "    # Save splits on hard drive.\n",
    "    for i, train, valid in zip(list(range(iterations)), training, validation):\n",
    "        \n",
    "        # Create a sample split using the indices defined above.\n",
    "        split = (x[train], y[train], x[valid], y[valid])\n",
    "\n",
    "        # Define name for current split.\n",
    "        split_name = name % i\n",
    "\n",
    "        # Create path to save split in working directory.\n",
    "        cv_samples = os.path.abspath(split_name)\n",
    "\n",
    "        # Save split as a pickle object.\n",
    "        joblib.dump(split, cv_samples)\n",
    "\n",
    "        # Save file name in list.\n",
    "        samples.append(cv_samples)\n",
    "\n",
    "    return samples"
   ]
  },
  {
   "cell_type": "markdown",
   "metadata": {},
   "source": [
    "Next, we define a score function. This function makes use of the score function implemented in scikit learn. Note that the model parameter can be any generic model from the sklearn.linear_model class that takes one parameter as an argument."
   ]
  },
  {
   "cell_type": "code",
   "execution_count": 4,
   "metadata": {
    "collapsed": true
   },
   "outputs": [],
   "source": [
    "def score(cv_samples, model, par):\n",
    "    \"\"\"Calculate the cross validation score for a model on given cross\n",
    "    validation samples.\n",
    "\n",
    "    Args:\n",
    "        cv_samples : numpy array\n",
    "            Cross validation training and test samples.\n",
    "\n",
    "        model : scikit-learn estimator object\n",
    "            Object used to fit the data.\n",
    "\n",
    "        par : int, float\n",
    "            Model specific paramter used in the estimation.\n",
    "\n",
    "    \"\"\"\n",
    "\n",
    "    # Import module here for parallelisation purposes.\n",
    "    from sklearn.externals import joblib\n",
    "\n",
    "    # Load cross validation splits from hard drive.\n",
    "    x_train, y_train, x_valid, y_valid = joblib.load(cv_samples, mmap_mode='c')\n",
    "\n",
    "    # Set parameters for model and fit the model to the data.\n",
    "    reg = model(par)\n",
    "    reg.fit(x_train, y_train)\n",
    "\n",
    "    return reg.score(x_valid, y_valid)"
   ]
  },
  {
   "cell_type": "markdown",
   "metadata": {},
   "source": [
    "Based thereon, we can now define a function that calculates the scores of the model over a given grid of parameters and a given set of cross validation samples."
   ]
  },
  {
   "cell_type": "code",
   "execution_count": 5,
   "metadata": {
    "collapsed": true
   },
   "outputs": [],
   "source": [
    "def cross_validate(model, cv_samples, grid):\n",
    "    \"\"\"Calculate cross validation scores for given model and samples over\n",
    "    different parameter combinations.\n",
    "\n",
    "    Args:\n",
    "        model : scikit-learn estimator object\n",
    "            Object used to fit the data.\n",
    "\n",
    "        cv_samples : numpy array\n",
    "            Cross validation training and test samples.\n",
    "\n",
    "        grid : numpy array\n",
    "            Grid of parameters used to estimate the model.\n",
    "\n",
    "    \"\"\"\n",
    "\n",
    "    # Create empty list to store scores.\n",
    "    scores = []\n",
    "\n",
    "    for par in grid:\n",
    "        # Create empty list to save scores for each split.\n",
    "        split_score = []\n",
    "\n",
    "        for i, file in enumerate(cv_samples):\n",
    "            # Calculate cross validation scores for splits.\n",
    "            split_score.append(score(file, model, par))\n",
    "\n",
    "        scores.append(split_score)\n",
    "\n",
    "    return grid, scores"
   ]
  },
  {
   "cell_type": "markdown",
   "metadata": {},
   "source": [
    "This process can be executed in parallel making use of the load_balanced view from ipyparallel as follows."
   ]
  },
  {
   "cell_type": "code",
   "execution_count": 6,
   "metadata": {
    "collapsed": true
   },
   "outputs": [],
   "source": [
    "def cross_validate_parallel(lb_view, model, cv_samples, grid):\n",
    "    \"\"\"Calculate cross validation scores for given model and samples over\n",
    "    different parameter combinations.\n",
    "\n",
    "    Args:\n",
    "        lb_view : ipyparallel client object\n",
    "            Load balanced client from ipyparallel used to execute parallel\n",
    "            computation.\n",
    "\n",
    "        model : scikit-learn estimator object\n",
    "            Object used to fit the data.\n",
    "\n",
    "        cv_samples : numpy array\n",
    "            Cross validation training and test samples.\n",
    "\n",
    "        grid : numpy array\n",
    "            Grid of parameters used to estimate the model.\n",
    "\n",
    "    \"\"\"\n",
    "\n",
    "    # Create empty list to store scores.\n",
    "    scores = []\n",
    "\n",
    "    for par in grid:\n",
    "        # Create empty list to save scores obtained for each split.\n",
    "        split_score = []\n",
    "\n",
    "        for j, file in enumerate(cv_samples):\n",
    "            # Calculate cross validation scores for splits.\n",
    "            split_score.append(lb_view.apply(score, file, model, par))\n",
    "\n",
    "        scores.append(split_score)\n",
    "\n",
    "    return grid, scores"
   ]
  },
  {
   "cell_type": "markdown",
   "metadata": {},
   "source": [
    "Lastly, we define a function that returns the parameter with the highest average cross validation score."
   ]
  },
  {
   "cell_type": "code",
   "execution_count": 7,
   "metadata": {
    "collapsed": true
   },
   "outputs": [],
   "source": [
    "def return_opt_cv_par(grid, scores, parallel):\n",
    "    \"\"\"Return the return the parameter with the highest average cross validation\n",
    "    score.\n",
    "\n",
    "    Args:\n",
    "        grid : numpy array\n",
    "            Grid of parameters used for the grid search.\n",
    "\n",
    "        scores : numpy array\n",
    "            Scores obtained from the cross validation.\n",
    "        \n",
    "        parallel : boolean\n",
    "            Indicate whether scores were obtained from parallel or non-parallel\n",
    "            grid search.\n",
    "\n",
    "    \"\"\"\n",
    "\n",
    "    # Create empty list to store mean scores.\n",
    "    mean_scores = []\n",
    "\n",
    "    if parallel is True:\n",
    "        for par, split in zip(grid, scores):\n",
    "\n",
    "            # Read scores from AsyncResult object.\n",
    "            split_scores = [score.get() for score in split if score.ready()]\n",
    "            if len(split_scores) == 0:\n",
    "                continue\n",
    "\n",
    "            # Calculate mean score over splits and save the resulting number.\n",
    "            mean_scores.append((np.mean(split_scores), par))\n",
    "  \n",
    "        # Find the parameter with the highest cross validation score.\n",
    "        opt_par = sorted(mean_scores, reverse=True, key=lambda x: x[0])[:1]\n",
    "\n",
    "        print(\n",
    "            'The parameter {} achieves the highest average cross validation'\n",
    "            ' score given by {}. Note that this might change if the process'\n",
    "            ' has not finished yet.'.format((opt_par[0][1]), opt_par[0][0])\n",
    "        )\n",
    "\n",
    "    else:\n",
    "        for par, split in zip(grid, scores):\n",
    "\n",
    "            # Read scores.\n",
    "            split_scores = [score for score in split]\n",
    "\n",
    "            # Calculate mean score over splits and save the resulting number.\n",
    "            mean_scores.append((np.mean(split_scores), par))\n",
    "\n",
    "        # Find the parameter with the highest cross validation score.\n",
    "        opt_par = sorted(mean_scores, reverse=True, key=lambda x: x[0])[:1]\n",
    "\n",
    "        print(\n",
    "            'The parameter {} achieves the highest average cross validation'\n",
    "            ' score given by {}.'.format((opt_par[0][1]), opt_par[0][0])\n",
    "        )"
   ]
  },
  {
   "cell_type": "markdown",
   "metadata": {},
   "source": [
    "## Application"
   ]
  },
  {
   "cell_type": "markdown",
   "metadata": {},
   "source": [
    "We now apply the functions to obtain the optimal paramter for Lasso when applied to the diabetes test data set from the scikitlearn library."
   ]
  },
  {
   "cell_type": "code",
   "execution_count": 8,
   "metadata": {
    "collapsed": true
   },
   "outputs": [],
   "source": [
    "from sklearn.datasets import load_diabetes\n",
    "diabetes = load_diabetes()"
   ]
  },
  {
   "cell_type": "markdown",
   "metadata": {},
   "source": [
    "We can now split the sample using the function defined above."
   ]
  },
  {
   "cell_type": "code",
   "execution_count": 9,
   "metadata": {
    "collapsed": false
   },
   "outputs": [],
   "source": [
    "splits = cross_validation_samples(\n",
    "    diabetes.data, diabetes.target, iterations=10\n",
    ")"
   ]
  },
  {
   "cell_type": "markdown",
   "metadata": {},
   "source": [
    "**To be able to execute the following code in parallel, first go to the \"iPython Clusters\" tab and start a local cluster.**"
   ]
  },
  {
   "cell_type": "code",
   "execution_count": 10,
   "metadata": {
    "collapsed": false
   },
   "outputs": [],
   "source": [
    "client = Client()\n",
    "lb_view = client.load_balanced_view()"
   ]
  },
  {
   "cell_type": "markdown",
   "metadata": {},
   "source": [
    "Now, we define the Lasso estimator and a grid of parameters for the grid search."
   ]
  },
  {
   "cell_type": "code",
   "execution_count": 11,
   "metadata": {
    "collapsed": true
   },
   "outputs": [],
   "source": [
    "from sklearn.linear_model import Lasso\n",
    "model = Lasso\n",
    "lasso_params = np.logspace(-4, -0.5, 500)"
   ]
  },
  {
   "cell_type": "markdown",
   "metadata": {},
   "source": [
    "Let us first apply the non-parallel version of the cross validate function."
   ]
  },
  {
   "cell_type": "code",
   "execution_count": 12,
   "metadata": {
    "collapsed": false
   },
   "outputs": [],
   "source": [
    "parameters, scores = cross_validate(model, splits, lasso_params)"
   ]
  },
  {
   "cell_type": "code",
   "execution_count": 13,
   "metadata": {
    "collapsed": false,
    "scrolled": true
   },
   "outputs": [
    {
     "name": "stdout",
     "output_type": "stream",
     "text": [
      "The parameter 0.004746272898439346 achieves the highest average cross validation score given by 0.49936360656493173.\n"
     ]
    }
   ],
   "source": [
    "return_opt_cv_par(parameters, scores, False)"
   ]
  },
  {
   "cell_type": "markdown",
   "metadata": {},
   "source": [
    "We obtain the same result when applying the parallel version."
   ]
  },
  {
   "cell_type": "code",
   "execution_count": 14,
   "metadata": {
    "collapsed": false,
    "scrolled": true
   },
   "outputs": [],
   "source": [
    "parameters, scores = cross_validate_parallel(\n",
    "    lb_view, model, splits, lasso_params\n",
    ")"
   ]
  },
  {
   "cell_type": "code",
   "execution_count": 15,
   "metadata": {
    "collapsed": false,
    "scrolled": true
   },
   "outputs": [
    {
     "name": "stdout",
     "output_type": "stream",
     "text": [
      "The parameter 0.004746272898439346 achieves the highest average cross validation score given by 0.49936360656493173. Note that this might change if the process has not finished yet.\n"
     ]
    }
   ],
   "source": [
    "return_opt_cv_par(parameters, scores, True)"
   ]
  },
  {
   "cell_type": "markdown",
   "metadata": {},
   "source": [
    "## Advantage of parallel code."
   ]
  },
  {
   "cell_type": "markdown",
   "metadata": {},
   "source": [
    "We now assess the difference in speed between the non-parallel and parallel implementation using the timeit function. First, we calculate the execution times for different parameters."
   ]
  },
  {
   "cell_type": "code",
   "execution_count": 18,
   "metadata": {
    "collapsed": false
   },
   "outputs": [],
   "source": [
    "# Create empty lists to store.\n",
    "parallel = []\n",
    "non_parallel = []\n",
    "\n",
    "# Define parameter grid.\n",
    "grid = [100, 200, 300, 400, 500]\n",
    "\n",
    "# Calculate execution times.\n",
    "for i, j in zip(grid, range(len(grid))):\n",
    "    lasso_params = np.logspace(-4, -0.5, i)\n",
    "    non_parallel.append(timeit.timeit(lambda: cross_validate(model, splits, lasso_params), number=1))\n",
    "    parallel.append(timeit.timeit(lambda: cross_validate_parallel(lb_view, model, splits, lasso_params), number=1))"
   ]
  },
  {
   "cell_type": "markdown",
   "metadata": {},
   "source": [
    "Now, we create a graph to compare the execution times."
   ]
  },
  {
   "cell_type": "code",
   "execution_count": 19,
   "metadata": {
    "collapsed": false
   },
   "outputs": [
    {
     "data": {
      "image/png": "[encoded data removed]",
      "text/plain": [
       "<matplotlib.figure.Figure at 0x11ad53048>"
      ]
     },
     "metadata": {},
     "output_type": "display_data"
    }
   ],
   "source": [
    "# Create figure.\n",
    "fig = plt.figure()\n",
    "ax1 = fig.add_subplot(111)\n",
    "\n",
    "# Add lines for parallel and non-parallel execution times.\n",
    "line1 = ax1.plot(parallel,'ko--' ,label='parallel')\n",
    "line2 = ax1.plot(non_parallel,'ko-',label='non-parallel')\n",
    "\n",
    "# Adjust plot axes.\n",
    "ax1.set_xlabel('Number of Parameters')\n",
    "ax1.set_ylabel('Time')\n",
    "plt.xticks(range(len(grid)), grid)\n",
    "\n",
    "# Add a legend.\n",
    "ax1.legend(loc=2)\n",
    "\n",
    "fig.savefig('plot.pdf')"
   ]
  },
  {
   "cell_type": "markdown",
   "metadata": {},
   "source": [
    "We clearly see that the parallel implementation outperforms the non-parallel implementation. This holds true for any number of parameters."
   ]
  }
 ],
 "metadata": {
  "kernelspec": {
   "display_name": "Python 3",
   "language": "python",
   "name": "python3"
  },
  "language_info": {
   "codemirror_mode": {
    "name": "ipython",
    "version": 3
   },
   "file_extension": ".py",
   "mimetype": "text/x-python",
   "name": "python",
   "nbconvert_exporter": "python",
   "pygments_lexer": "ipython3",
   "version": "3.4.4"
  }
 },
 "nbformat": 4,
 "nbformat_minor": 1
}
